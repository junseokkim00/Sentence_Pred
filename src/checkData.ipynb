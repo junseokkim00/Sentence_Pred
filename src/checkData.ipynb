{
 "cells": [
  {
   "cell_type": "code",
   "execution_count": 13,
   "metadata": {},
   "outputs": [
    {
     "data": {
      "text/html": [
       "<div>\n",
       "<style scoped>\n",
       "    .dataframe tbody tr th:only-of-type {\n",
       "        vertical-align: middle;\n",
       "    }\n",
       "\n",
       "    .dataframe tbody tr th {\n",
       "        vertical-align: top;\n",
       "    }\n",
       "\n",
       "    .dataframe thead th {\n",
       "        text-align: right;\n",
       "    }\n",
       "</style>\n",
       "<table border=\"1\" class=\"dataframe\">\n",
       "  <thead>\n",
       "    <tr style=\"text-align: right;\">\n",
       "      <th></th>\n",
       "      <th>Unnamed: 0</th>\n",
       "      <th>prev</th>\n",
       "      <th>next</th>\n",
       "    </tr>\n",
       "  </thead>\n",
       "  <tbody>\n",
       "    <tr>\n",
       "      <th>0</th>\n",
       "      <td>False</td>\n",
       "      <td>False</td>\n",
       "      <td>False</td>\n",
       "    </tr>\n",
       "    <tr>\n",
       "      <th>1</th>\n",
       "      <td>False</td>\n",
       "      <td>False</td>\n",
       "      <td>False</td>\n",
       "    </tr>\n",
       "    <tr>\n",
       "      <th>2</th>\n",
       "      <td>False</td>\n",
       "      <td>False</td>\n",
       "      <td>False</td>\n",
       "    </tr>\n",
       "    <tr>\n",
       "      <th>3</th>\n",
       "      <td>False</td>\n",
       "      <td>False</td>\n",
       "      <td>False</td>\n",
       "    </tr>\n",
       "    <tr>\n",
       "      <th>4</th>\n",
       "      <td>False</td>\n",
       "      <td>False</td>\n",
       "      <td>False</td>\n",
       "    </tr>\n",
       "    <tr>\n",
       "      <th>...</th>\n",
       "      <td>...</td>\n",
       "      <td>...</td>\n",
       "      <td>...</td>\n",
       "    </tr>\n",
       "    <tr>\n",
       "      <th>8349</th>\n",
       "      <td>False</td>\n",
       "      <td>False</td>\n",
       "      <td>False</td>\n",
       "    </tr>\n",
       "    <tr>\n",
       "      <th>8350</th>\n",
       "      <td>False</td>\n",
       "      <td>False</td>\n",
       "      <td>False</td>\n",
       "    </tr>\n",
       "    <tr>\n",
       "      <th>8351</th>\n",
       "      <td>False</td>\n",
       "      <td>False</td>\n",
       "      <td>False</td>\n",
       "    </tr>\n",
       "    <tr>\n",
       "      <th>8352</th>\n",
       "      <td>False</td>\n",
       "      <td>False</td>\n",
       "      <td>False</td>\n",
       "    </tr>\n",
       "    <tr>\n",
       "      <th>8353</th>\n",
       "      <td>False</td>\n",
       "      <td>False</td>\n",
       "      <td>False</td>\n",
       "    </tr>\n",
       "  </tbody>\n",
       "</table>\n",
       "<p>8354 rows × 3 columns</p>\n",
       "</div>"
      ],
      "text/plain": [
       "      Unnamed: 0   prev   next\n",
       "0          False  False  False\n",
       "1          False  False  False\n",
       "2          False  False  False\n",
       "3          False  False  False\n",
       "4          False  False  False\n",
       "...          ...    ...    ...\n",
       "8349       False  False  False\n",
       "8350       False  False  False\n",
       "8351       False  False  False\n",
       "8352       False  False  False\n",
       "8353       False  False  False\n",
       "\n",
       "[8354 rows x 3 columns]"
      ]
     },
     "execution_count": 13,
     "metadata": {},
     "output_type": "execute_result"
    }
   ],
   "source": [
    "import pandas as pd\n",
    "import konlpy\n",
    "\n",
    "df = pd.read_csv(\"./data/train2.csv\")\n",
    "df.describe()\n",
    "df.isnull()\n"
   ]
  },
  {
   "cell_type": "code",
   "execution_count": 14,
   "metadata": {},
   "outputs": [],
   "source": [
    "df['full_sentence'] = df['prev'] + \" \" + df['next']"
   ]
  },
  {
   "cell_type": "code",
   "execution_count": 15,
   "metadata": {},
   "outputs": [],
   "source": [
    "df_sentence = df[['full_sentence']]"
   ]
  },
  {
   "cell_type": "code",
   "execution_count": 16,
   "metadata": {},
   "outputs": [
    {
     "data": {
      "text/html": [
       "<div>\n",
       "<style scoped>\n",
       "    .dataframe tbody tr th:only-of-type {\n",
       "        vertical-align: middle;\n",
       "    }\n",
       "\n",
       "    .dataframe tbody tr th {\n",
       "        vertical-align: top;\n",
       "    }\n",
       "\n",
       "    .dataframe thead th {\n",
       "        text-align: right;\n",
       "    }\n",
       "</style>\n",
       "<table border=\"1\" class=\"dataframe\">\n",
       "  <thead>\n",
       "    <tr style=\"text-align: right;\">\n",
       "      <th></th>\n",
       "      <th>full_sentence</th>\n",
       "    </tr>\n",
       "  </thead>\n",
       "  <tbody>\n",
       "    <tr>\n",
       "      <th>0</th>\n",
       "      <td>영희는 학생이다. 그런데 이러한 학생은 공부를 열심히 해야 한다.</td>\n",
       "    </tr>\n",
       "    <tr>\n",
       "      <th>1</th>\n",
       "      <td>영희는 학생이다. 그런데 이 학생은 공부를 열심히 해야 한다.</td>\n",
       "    </tr>\n",
       "    <tr>\n",
       "      <th>2</th>\n",
       "      <td>영희는 학생이다. 그런데 학생은 공부를 열심히 해야 한다.</td>\n",
       "    </tr>\n",
       "    <tr>\n",
       "      <th>3</th>\n",
       "      <td>영희는 미혼이다. 그런데 이러한 미혼은 결혼에 대하여 관심과 부담을 동시에 느낀다.</td>\n",
       "    </tr>\n",
       "    <tr>\n",
       "      <th>4</th>\n",
       "      <td>영희는 미혼이다. 그런데 이 미혼은 결혼에 대하여 관심과 부담을 동시에 느낀다.</td>\n",
       "    </tr>\n",
       "    <tr>\n",
       "      <th>...</th>\n",
       "      <td>...</td>\n",
       "    </tr>\n",
       "    <tr>\n",
       "      <th>8349</th>\n",
       "      <td>당시 로마 공화정에 관해 집필 중이던 마키아벨리는 마침 피렌체의 새 집권자가 메디치...</td>\n",
       "    </tr>\n",
       "    <tr>\n",
       "      <th>8350</th>\n",
       "      <td>당시 로마 공화정에 관해 집필 중이던 마키아벨리는 마침 피렌체의 새 집권자가 메디치...</td>\n",
       "    </tr>\n",
       "    <tr>\n",
       "      <th>8351</th>\n",
       "      <td>당시 로마 공화정에 관해 집필 중이던 마키아벨리는 마침 피렌체의 새 집권자가 메디치...</td>\n",
       "    </tr>\n",
       "    <tr>\n",
       "      <th>8352</th>\n",
       "      <td>당시 로마 공화정에 관해 집필 중이던 마키아벨리는 마침 피렌체의 새 집권자가 메디치...</td>\n",
       "    </tr>\n",
       "    <tr>\n",
       "      <th>8353</th>\n",
       "      <td>당시 로마 공화정에 관해 집필 중이던 마키아벨리는 마침 피렌체의 새 집권자가 메디치...</td>\n",
       "    </tr>\n",
       "  </tbody>\n",
       "</table>\n",
       "<p>8354 rows × 1 columns</p>\n",
       "</div>"
      ],
      "text/plain": [
       "                                          full_sentence\n",
       "0                  영희는 학생이다. 그런데 이러한 학생은 공부를 열심히 해야 한다.\n",
       "1                    영희는 학생이다. 그런데 이 학생은 공부를 열심히 해야 한다.\n",
       "2                      영희는 학생이다. 그런데 학생은 공부를 열심히 해야 한다.\n",
       "3        영희는 미혼이다. 그런데 이러한 미혼은 결혼에 대하여 관심과 부담을 동시에 느낀다.\n",
       "4          영희는 미혼이다. 그런데 이 미혼은 결혼에 대하여 관심과 부담을 동시에 느낀다.\n",
       "...                                                 ...\n",
       "8349  당시 로마 공화정에 관해 집필 중이던 마키아벨리는 마침 피렌체의 새 집권자가 메디치...\n",
       "8350  당시 로마 공화정에 관해 집필 중이던 마키아벨리는 마침 피렌체의 새 집권자가 메디치...\n",
       "8351  당시 로마 공화정에 관해 집필 중이던 마키아벨리는 마침 피렌체의 새 집권자가 메디치...\n",
       "8352  당시 로마 공화정에 관해 집필 중이던 마키아벨리는 마침 피렌체의 새 집권자가 메디치...\n",
       "8353  당시 로마 공화정에 관해 집필 중이던 마키아벨리는 마침 피렌체의 새 집권자가 메디치...\n",
       "\n",
       "[8354 rows x 1 columns]"
      ]
     },
     "execution_count": 16,
     "metadata": {},
     "output_type": "execute_result"
    }
   ],
   "source": [
    "df_sentence"
   ]
  },
  {
   "cell_type": "code",
   "execution_count": 17,
   "metadata": {},
   "outputs": [],
   "source": [
    "from konlpy.tag import Kkma\n",
    "Kkma = Kkma()"
   ]
  },
  {
   "cell_type": "code",
   "execution_count": 9,
   "metadata": {},
   "outputs": [],
   "source": [
    "list_ = Kkma.pos(df_sentence.iloc[0])"
   ]
  },
  {
   "cell_type": "code",
   "execution_count": 20,
   "metadata": {},
   "outputs": [
    {
     "name": "stderr",
     "output_type": "stream",
     "text": [
      "/Library/Frameworks/Python.framework/Versions/3.6/lib/python3.6/site-packages/ipykernel_launcher.py:1: SettingWithCopyWarning: \n",
      "A value is trying to be set on a copy of a slice from a DataFrame.\n",
      "Try using .loc[row_indexer,col_indexer] = value instead\n",
      "\n",
      "See the caveats in the documentation: https://pandas.pydata.org/pandas-docs/stable/user_guide/indexing.html#returning-a-view-versus-a-copy\n",
      "  \"\"\"Entry point for launching an IPython kernel.\n"
     ]
    }
   ],
   "source": [
    "df_sentence['analyze'] = [Kkma.pos(sentence) for sentence in df_sentence['full_sentence']]"
   ]
  },
  {
   "cell_type": "code",
   "execution_count": 22,
   "metadata": {},
   "outputs": [
    {
     "data": {
      "text/plain": [
       "0       [(영희, NNP), (는, JX), (학생, NNG), (이, VCP), (다, ...\n",
       "1       [(영희, NNP), (는, JX), (학생, NNG), (이, VCP), (다, ...\n",
       "2       [(영희, NNP), (는, JX), (학생, NNG), (이, VCP), (다, ...\n",
       "3       [(영희, NNP), (는, JX), (미혼, NNG), (이, VCP), (다, ...\n",
       "4       [(영희, NNP), (는, JX), (미혼, NNG), (이, VCP), (다, ...\n",
       "                              ...                        \n",
       "8349    [(당시, NNG), (로마, NNG), (공화정, NNG), (에, JKM), (...\n",
       "8350    [(당시, NNG), (로마, NNG), (공화정, NNG), (에, JKM), (...\n",
       "8351    [(당시, NNG), (로마, NNG), (공화정, NNG), (에, JKM), (...\n",
       "8352    [(당시, NNG), (로마, NNG), (공화정, NNG), (에, JKM), (...\n",
       "8353    [(당시, NNG), (로마, NNG), (공화정, NNG), (에, JKM), (...\n",
       "Name: analyze, Length: 8354, dtype: object"
      ]
     },
     "execution_count": 22,
     "metadata": {},
     "output_type": "execute_result"
    }
   ],
   "source": [
    "df_sentence['analyze']"
   ]
  },
  {
   "cell_type": "code",
   "execution_count": 11,
   "metadata": {},
   "outputs": [
    {
     "name": "stdout",
     "output_type": "stream",
     "text": [
      "<class 'list'>\n",
      "word: ['영희', '는', '학생', '이', '다', '.', '그런데', '이러하', 'ㄴ', '학생', '은', '공부', '를', '열심히', '하', '어야', '하', 'ㄴ다', '.']\n",
      "pos: ['NNP', 'JX', 'NNG', 'VCP', 'EFN', 'SF', 'MAG', 'VA', 'ETD', 'NNG', 'JX', 'NNG', 'JKO', 'MAG', 'VV', 'ECD', 'VV', 'EFN', 'SF']\n"
     ]
    }
   ],
   "source": [
    "print(type(list_))\n",
    "word = []\n",
    "pos = []\n",
    "for w, p in list_:\n",
    "    word.append(w)\n",
    "    pos.append(p)\n",
    "print(f'word: {word}')\n",
    "print(f'pos: {pos}')"
   ]
  },
  {
   "cell_type": "code",
   "execution_count": null,
   "metadata": {},
   "outputs": [],
   "source": []
  }
 ],
 "metadata": {
  "kernelspec": {
   "display_name": "proj",
   "language": "python",
   "name": "python3"
  },
  "language_info": {
   "codemirror_mode": {
    "name": "ipython",
    "version": 3
   },
   "file_extension": ".py",
   "mimetype": "text/x-python",
   "name": "python",
   "nbconvert_exporter": "python",
   "pygments_lexer": "ipython3",
   "version": "3.6.7"
  },
  "orig_nbformat": 4
 },
 "nbformat": 4,
 "nbformat_minor": 2
}
