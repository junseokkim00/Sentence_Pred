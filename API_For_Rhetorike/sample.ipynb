{
 "cells": [
  {
   "cell_type": "code",
   "execution_count": 6,
   "metadata": {},
   "outputs": [],
   "source": [
    "from sen_gen_util import send_message"
   ]
  },
  {
   "cell_type": "code",
   "execution_count": 7,
   "metadata": {},
   "outputs": [],
   "source": [
    "response = send_message('문장: 나는 밥을 먹었다.')"
   ]
  },
  {
   "cell_type": "code",
   "execution_count": 8,
   "metadata": {},
   "outputs": [
    {
     "data": {
      "text/plain": [
       "openai.openai_object.OpenAIObject"
      ]
     },
     "execution_count": 8,
     "metadata": {},
     "output_type": "execute_result"
    }
   ],
   "source": [
    "type(response)"
   ]
  },
  {
   "cell_type": "code",
   "execution_count": 9,
   "metadata": {},
   "outputs": [
    {
     "data": {
      "text/plain": [
       "'- <함께 공부하면 성적이 좋아진다.> 그런데 <성적이 좋아지면 대학 진학이 더 수월해진다.>\\n- <고기는 단백질이 풍부하다.> 그런데 <단백질은 우리 몸에 필수적인 영양소이다.>\\n- <비가 오면 우산을 쓴다.> 그런데 <우산은 비를 막아주는 역할을 한다.>\\n- <봄이 오면 꽃이 피어난다.> 그런데 <꽃은 아름다운 향기를 풍긴다.>\\n- <물고기는 수중에서 호흡을 한다.> 그런데 <호흡을 위해서는 물이 필요하다.>\\n- <다이어트를 하면 체중이 감소한다.> 그런데 <체중이 감소하면 건강상태가 좋아진다.>\\n- <책을 읽으면 지식을 얻을 수 있다.> 그런데 <지식은 인생을 더욱 풍요롭게 만든다.>\\n- <운동을 하면 몸이 건강해진다.> 그런데 <건강한 몸은 행복한 삶을 가져온다.>\\n- <과일을 많이 섭취하면 비타민을 채울 수 있다.> 그런데 <비타민은 우리 몸에 필요한 영양소이다.>\\n- <여행을 하면 다양한 경험을 할 수 있다.> 그런데 <경험은 인생을 더욱 풍요롭게 만든다.>\\n- <음악을 듣으면 마음이 편안해진다.> 그런데 <편안한 마음은 스트레스를 해소시킨다.>\\n- <요리를 하면 맛있는 음식을 즐길 수 있다.> 그런데 <맛있는 음식은 행복을 준다.>\\n- <부모님과 대화하면 소통이 원활해진다.> 그런데 <소통을 통해 가정 분위기가 좋아진다.>\\n- <영화를 보면 재미있는 이야기를 경험할 수 있다.> 그런데 <재미있는 이야기는 기분을 전환시킨다.>\\n- <운동을 하면 체력이 향상된다.> 그런데 <체력이 향상되면 일상 생활에서 힘이 난다.>\\n- <공부를 하면 지식이 쌓인다.> 그런데 <지식은 미래에 도움이 된다.>\\n- <집 청소를 하면 깔끔한 공간을 가질 수 있다.> 그런데 <깔끔한 공간은 생활의 질을 높인다.>\\n- <가족과 함께 식사를 하면 소통이 원활해진다.> 그런데 <소통을 통해 가족의 유대감이 강해진다.>\\n- <문화공연을 관람하면 다양한 감동을 받을 수 있다.> 그런데 <감동은 인생을 더욱 풍요롭게 만든다.>\\n- <화장을 하면 더욱 아름다워진다.> 그런데 <아름다움은 자신감을 키운다.>\\n- <친구와 대화를 하면 스트레스를 풀 수 있다.> 그런데 <스트레스 해소는 삶의 질을 향상시킨다.>\\n- <취미활동을 하면 재밌는 시간을 보낼 수 있다.> 그런데 <재밌는 시간은 마음을 편안하게 만든다.>\\n- <공연을 관람하면 예술적 감동을 줄 수 있다.> 그런데 <감동은 삶에 활력을 불어넣는다.>\\n- <휴식을 취하면 몸과 마음이 새로워진다.> 그런데 <새로움은 일상에 활력을 불어넣는다.>\\n- <인생은 한순간이다.> 그런데 <한순간의 선택은 인생에 큰 영향을 줄 수 있다.>\\n- <나는 고양이를 키운다.> 그런데 <고양이는 사람에게 위안을 준다.>\\n- <도전을 하면 새로운 경험을 할 수 있다.> 그런데 <새로운 경험은 성장을 이끈다.>'"
      ]
     },
     "execution_count": 9,
     "metadata": {},
     "output_type": "execute_result"
    }
   ],
   "source": [
    "response['choices'][0]['message']['content']"
   ]
  },
  {
   "cell_type": "code",
   "execution_count": null,
   "metadata": {},
   "outputs": [],
   "source": [
    "# print"
   ]
  }
 ],
 "metadata": {
  "kernelspec": {
   "display_name": "rhetorike",
   "language": "python",
   "name": "python3"
  },
  "language_info": {
   "codemirror_mode": {
    "name": "ipython",
    "version": 3
   },
   "file_extension": ".py",
   "mimetype": "text/x-python",
   "name": "python",
   "nbconvert_exporter": "python",
   "pygments_lexer": "ipython3",
   "version": "3.11.5"
  }
 },
 "nbformat": 4,
 "nbformat_minor": 2
}
